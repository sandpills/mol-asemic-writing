{
 "cells": [
  {
   "cell_type": "markdown",
   "metadata": {},
   "source": [
    "## Making Asemic writing move"
   ]
  },
  {
   "cell_type": "markdown",
   "metadata": {},
   "source": [
    "Import Libraries here"
   ]
  },
  {
   "cell_type": "code",
   "execution_count": 1,
   "metadata": {},
   "outputs": [],
   "source": [
    "import bezmerizing\n",
    "import random\n",
    "import numpy as np"
   ]
  },
  {
   "cell_type": "code",
   "execution_count": 2,
   "metadata": {},
   "outputs": [],
   "source": [
    "from flat import document, shape, rgb, rgba\n",
    "from bezmerizing import Polyline\n",
    "import ipywidgets as widgets\n",
    "from IPython.display import display"
   ]
  },
  {
   "cell_type": "code",
   "execution_count": 3,
   "metadata": {},
   "outputs": [],
   "source": [
    "from numpy.random import uniform, normal, choice"
   ]
  },
  {
   "cell_type": "markdown",
   "metadata": {},
   "source": [
    "*Taking a Flat `page` object and displaying its rendered SVG*"
   ]
  },
  {
   "cell_type": "code",
   "execution_count": 4,
   "metadata": {},
   "outputs": [],
   "source": [
    "from IPython.display import SVG, display\n",
    "def show(page):\n",
    "    display(SVG(page.svg()))"
   ]
  },
  {
   "cell_type": "markdown",
   "metadata": {},
   "source": [
    "\n",
    "## Making Widgets\n",
    "\n",
    "\n",
    "Referencing the [widget list](https://ipywidgets.readthedocs.io/en/latest/examples/Widget%20List.html).\n"
   ]
  },
  {
   "cell_type": "code",
   "execution_count": 5,
   "metadata": {},
   "outputs": [
    {
     "data": {
      "application/vnd.jupyter.widget-view+json": {
       "model_id": "81c2bc5597054552a35e6f137688920a",
       "version_major": 2,
       "version_minor": 0
      },
      "text/plain": [
       "IntSlider(value=0, description='how much??', max=10)"
      ]
     },
     "metadata": {},
     "output_type": "display_data"
    }
   ],
   "source": [
    "int_slider = widgets.IntSlider(\n",
    "    description=\"how much??\",\n",
    "    value=0,\n",
    "    min=0,\n",
    "    max=10)\n",
    "display(int_slider)"
   ]
  },
  {
   "cell_type": "code",
   "execution_count": 6,
   "metadata": {},
   "outputs": [
    {
     "data": {
      "application/vnd.jupyter.widget-view+json": {
       "model_id": "5f49259791ac4b9eb8c476aca9cabbd7",
       "version_major": 2,
       "version_minor": 0
      },
      "text/plain": [
       "HBox(children=(Play(value=0, description='Press play', max=50), IntSlider(value=0, max=50)))"
      ]
     },
     "metadata": {},
     "output_type": "display_data"
    }
   ],
   "source": [
    "play = widgets.Play(\n",
    "    value=0,\n",
    "    min=0,\n",
    "    max=50,\n",
    "    step=1,\n",
    "    interval=100,\n",
    "    description=\"Press play\"\n",
    ")\n",
    "slider = widgets.IntSlider(min=0, max=50)\n",
    "widgets.jslink((play, 'value'), (slider, 'value'))\n",
    "widgets.HBox([play, slider])"
   ]
  },
  {
   "cell_type": "markdown",
   "metadata": {},
   "source": [
    "Making an *interactive* widget"
   ]
  },
  {
   "cell_type": "code",
   "execution_count": 7,
   "metadata": {},
   "outputs": [],
   "source": [
    "def square(size=50):\n",
    "    page = document(60, 60, 'mm').addpage()\n",
    "    pen = shape().fill(rgba(40, 40, 240, 240)).nostroke()\n",
    "    page.place(pen.rectangle(10, 5, size, size))\n",
    "    show(page)"
   ]
  },
  {
   "cell_type": "code",
   "execution_count": 8,
   "metadata": {},
   "outputs": [
    {
     "data": {
      "application/vnd.jupyter.widget-view+json": {
       "model_id": "df96b661bb254f01b03c042e376c4cbd",
       "version_major": 2,
       "version_minor": 0
      },
      "text/plain": [
       "interactive(children=(IntSlider(value=35, continuous_update=False, description='how big', max=50, min=1), Outp…"
      ]
     },
     "metadata": {},
     "output_type": "display_data"
    },
    {
     "data": {
      "text/plain": [
       "<function __main__.square(size=50)>"
      ]
     },
     "execution_count": 8,
     "metadata": {},
     "output_type": "execute_result"
    }
   ],
   "source": [
    "fun_slider = widgets.IntSlider(min=1, max=50, value=35, description=\"how big\", continuous_update=False)\n",
    "widgets.interact(square, size=fun_slider)"
   ]
  },
  {
   "cell_type": "code",
   "execution_count": 9,
   "metadata": {},
   "outputs": [],
   "source": [
    "def square(size=50):\n",
    "    page = document(60, 60, 'mm').addpage()\n",
    "    pen = shape().fill(rgba(40, 40, 240, 240)).nostroke()\n",
    "    page.place(pen.rectangle(10, 5, size, size))\n",
    "    show(page)"
   ]
  },
  {
   "cell_type": "code",
   "execution_count": 10,
   "metadata": {},
   "outputs": [
    {
     "data": {
      "application/vnd.jupyter.widget-view+json": {
       "model_id": "976b3ba7b328499a9d16e031b1cd74d0",
       "version_major": 2,
       "version_minor": 0
      },
      "text/plain": [
       "interactive(children=(IntSlider(value=0, description='how big', max=50), Output()), _dom_classes=('widget-inte…"
      ]
     },
     "metadata": {},
     "output_type": "display_data"
    },
    {
     "data": {
      "application/vnd.jupyter.widget-view+json": {
       "model_id": "128ebc67c7e140b0bfb9e094098ef929",
       "version_major": 2,
       "version_minor": 0
      },
      "text/plain": [
       "HBox(children=(Play(value=0, description='Press play', max=50),))"
      ]
     },
     "metadata": {},
     "output_type": "display_data"
    }
   ],
   "source": [
    "slider = widgets.IntSlider(min=0, max=50, description=\"how big\")\n",
    "play = widgets.Play(\n",
    "    value=0,\n",
    "    min=0,\n",
    "    max=50,\n",
    "    step=1,\n",
    "    interval=100,\n",
    "    description=\"Press play\"\n",
    ")\n",
    "widgets.jslink((play, 'value'), (slider, 'value'))\n",
    "widgets.interact(square, size=slider)\n",
    "hLayout = widgets.HBox([play])\n",
    "\n",
    "display(hLayout)"
   ]
  },
  {
   "cell_type": "markdown",
   "metadata": {},
   "source": [
    "Squiggly lines from Week 6!"
   ]
  },
  {
   "cell_type": "code",
   "execution_count": 11,
   "metadata": {},
   "outputs": [],
   "source": [
    "from scipy.stats import truncnorm\n",
    "def t_normal(a, b, mu, sigma):\n",
    "    tn = truncnorm((a-mu)/sigma, (b-mu)/sigma, loc=mu, scale=sigma)\n",
    "    return tn.rvs(1)[0]"
   ]
  },
  {
   "cell_type": "code",
   "execution_count": 12,
   "metadata": {},
   "outputs": [],
   "source": [
    "def uniform_glyph_baseline(n=10):\n",
    "    pts = [[-0.4, 0.5], [0.4, 0.5]]\n",
    "    for i in range(n):\n",
    "        pts.append([uniform(-0.5, 0.5), uniform(-0.5, 0.5)])\n",
    "    rand_pline = Polyline(pts)\n",
    "    return rand_pline"
   ]
  },
  {
   "cell_type": "code",
   "execution_count": 13,
   "metadata": {},
   "outputs": [],
   "source": [
    "pline = uniform_glyph_baseline().scale(40).translate(20, 20)"
   ]
  },
  {
   "cell_type": "code",
   "execution_count": 14,
   "metadata": {},
   "outputs": [],
   "source": [
    "def make_scribble(width, height, steps, stddev=0):\n",
    "    pts = []\n",
    "    for i in range(steps):\n",
    "        x = ((width / steps) * i) + normal(0, stddev)\n",
    "        y = normal(0, height)\n",
    "        pts.append([x, y])\n",
    "    return Polyline(pts)"
   ]
  },
  {
   "cell_type": "markdown",
   "metadata": {},
   "source": [
    "Random seeding"
   ]
  },
  {
   "cell_type": "code",
   "execution_count": 15,
   "metadata": {},
   "outputs": [],
   "source": [
    " def squiggly(n=10):\n",
    "    size = 200\n",
    "    d = document(200, 80, 'mm')\n",
    "    page = d.addpage()\n",
    "    row_n = 16\n",
    "    for i in range(10):\n",
    "        x = 180\n",
    "        y = random.lognormvariate(0.5,1)\n",
    "        r = random.randrange(255)\n",
    "        b = random.randrange(255)\n",
    "        scribble_poly = make_scribble(width=x,\n",
    "                        height= y,\n",
    "                        steps=25,\n",
    "                        stddev=2)\n",
    "        curve_figure = shape().stroke(rgba(r, 105, b, 220)).width(2)\n",
    "        curve = curve_figure.path(scribble_poly.smooth_path().translate(10, 40))\n",
    "        page.place(curve)\n",
    "    show(page)"
   ]
  },
  {
   "cell_type": "code",
   "execution_count": 16,
   "metadata": {},
   "outputs": [
    {
     "data": {
      "application/vnd.jupyter.widget-view+json": {
       "model_id": "f33b8be28c994c39bb22fafeeb4994b0",
       "version_major": 2,
       "version_minor": 0
      },
      "text/plain": [
       "interactive(children=(IntSlider(value=0, description='n', max=50), Output()), _dom_classes=('widget-interact',…"
      ]
     },
     "metadata": {},
     "output_type": "display_data"
    },
    {
     "data": {
      "application/vnd.jupyter.widget-view+json": {
       "model_id": "4551c64eac9046b99a8674585bf9d38d",
       "version_major": 2,
       "version_minor": 0
      },
      "text/plain": [
       "HBox(children=(Play(value=0, description='Press play', max=50),))"
      ]
     },
     "metadata": {},
     "output_type": "display_data"
    }
   ],
   "source": [
    "play = widgets.Play(\n",
    "    value=0,\n",
    "    min=0,\n",
    "    max=50,\n",
    "    step=1,\n",
    "    interval=100,\n",
    "    description=\"Press play\",\n",
    "    disabled=False\n",
    ")\n",
    "slider = widgets.IntSlider(min=0, max=50)\n",
    "widgets.jslink((play, 'value'), (slider, 'value'))\n",
    "widgets.interact(squiggly, n=slider)\n",
    "widgets.HBox([play])"
   ]
  },
  {
   "cell_type": "code",
   "execution_count": 17,
   "metadata": {},
   "outputs": [],
   "source": [
    "def more_squiggly(n=10):\n",
    "    size = 200\n",
    "    d = document(size, size, 'mm')\n",
    "    page = d.addpage()\n",
    "    line_figure = shape().stroke(rgba(0, 255, 0, 255)).width(1)\n",
    "    row_n = 5\n",
    "    for i in range(row_n):\n",
    "        for j in range(5):\n",
    "            x = random.normalvariate(100,200)\n",
    "            y = random.lognormvariate(0,1.5)\n",
    "            r = random.randrange(255)\n",
    "            b = random.randrange(255)\n",
    "            scribble_poly = make_scribble(\n",
    "                            width=size - 20,\n",
    "                            height=y,\n",
    "                            steps=int(uniform(25, 250)),\n",
    "                            stddev=uniform(2))\n",
    "            curve_figure = shape().stroke(rgba(r, 105, b, 220)).width(2)\n",
    "            scribble_poly_tr = scribble_poly.translate(\n",
    "                10, 25 + (i*size/(row_n+1))) # row_n + 1 to leave some space at the bottom\n",
    "            curve = curve_figure.path(scribble_poly_tr.smooth_path(tightness=-0.5))\n",
    "            page.place(curve)\n",
    "    show(page)"
   ]
  },
  {
   "cell_type": "code",
   "execution_count": 18,
   "metadata": {},
   "outputs": [
    {
     "data": {
      "application/vnd.jupyter.widget-view+json": {
       "model_id": "bccc5392f23f4c728488cfe464292cb6",
       "version_major": 2,
       "version_minor": 0
      },
      "text/plain": [
       "interactive(children=(IntSlider(value=0, description='n', max=50), Output()), _dom_classes=('widget-interact',…"
      ]
     },
     "metadata": {},
     "output_type": "display_data"
    },
    {
     "data": {
      "application/vnd.jupyter.widget-view+json": {
       "model_id": "c388bbe953784d559597c1630cfc2a8d",
       "version_major": 2,
       "version_minor": 0
      },
      "text/plain": [
       "HBox(children=(Play(value=0, description='Press play', max=50),))"
      ]
     },
     "metadata": {},
     "output_type": "display_data"
    }
   ],
   "source": [
    "play = widgets.Play(\n",
    "    value=0,\n",
    "    min=0,\n",
    "    max=50,\n",
    "    step=1,\n",
    "    interval=100,\n",
    "    description=\"Press play\",\n",
    "    disabled=False\n",
    ")\n",
    "slider = widgets.IntSlider(min=0, max=50)\n",
    "widgets.jslink((play, 'value'), (slider, 'value'))\n",
    "widgets.interact(more_squiggly, n=slider)\n",
    "widgets.HBox([play])"
   ]
  },
  {
   "cell_type": "code",
   "execution_count": 19,
   "metadata": {},
   "outputs": [
    {
     "name": "stdout",
     "output_type": "stream",
     "text": [
      "143.21112056009025\n",
      "117.42152631988307\n",
      "117.0943685277502\n",
      "182.7632247620641\n",
      "158.7171260125725\n",
      "145.9353745644712\n",
      "182.268475801786\n",
      "182.15481108679936\n",
      "130.71202514971392\n",
      "120.08943757548353\n"
     ]
    }
   ],
   "source": [
    "np.random.seed(103)\n",
    "for i in range(10):\n",
    "    print(np.random.uniform(100,200))"
   ]
  },
  {
   "cell_type": "markdown",
   "metadata": {},
   "source": [
    "Apparently `numpy.random` has no attribute for `normvariate` or `lognormvariate` or `randrange`, so I have to use `random.uniform` for everything"
   ]
  },
  {
   "cell_type": "code",
   "execution_count": 20,
   "metadata": {},
   "outputs": [
    {
     "data": {
      "application/vnd.jupyter.widget-view+json": {
       "model_id": "a1f4b04bd44c4bb59268e50d58d76ada",
       "version_major": 2,
       "version_minor": 0
      },
      "text/plain": [
       "interactive(children=(IntSlider(value=1, description='n', max=7, min=1), Output()), _dom_classes=('widget-inte…"
      ]
     },
     "metadata": {},
     "output_type": "display_data"
    },
    {
     "data": {
      "application/vnd.jupyter.widget-view+json": {
       "model_id": "ccf6760734bd4602835a5b096028ca9a",
       "version_major": 2,
       "version_minor": 0
      },
      "text/plain": [
       "HBox(children=(Play(value=1, description='Press play', interval=600, max=7, min=1),))"
      ]
     },
     "metadata": {},
     "output_type": "display_data"
    }
   ],
   "source": [
    "def best_squiggly(n=1):\n",
    "    size = 200\n",
    "    d = document(size, size, 'mm')\n",
    "    page2 = d.addpage()\n",
    "    line_figure = shape().stroke(rgba(0, 255, 0, 255)).width(1)\n",
    "    row_n = 5\n",
    "    np.random.seed(135)\n",
    "    for i in range(row_n):\n",
    "        for j in range(n):\n",
    "            x = np.random.uniform(n,n*60)\n",
    "            y = np.random.uniform(0,n-1)\n",
    "            r = np.random.uniform(255)\n",
    "            b = np.random.uniform(255)\n",
    "            scribble_poly = make_scribble(\n",
    "                            width=x,\n",
    "                            height=y,\n",
    "                            steps=int(uniform(25, 250)),\n",
    "                            stddev=uniform(2))\n",
    "            curve_figure = shape().stroke(rgba(r, 105, b, 220)).width(2)\n",
    "            scribble_poly_tr = scribble_poly.translate(\n",
    "                10, 25 + (i*size/(row_n+1))) # row_n + 1 to leave some space at the bottom\n",
    "            curve = curve_figure.path(scribble_poly_tr.smooth_path(tightness=-0.5))\n",
    "            page2.place(curve)\n",
    "    show(page2)\n",
    "\n",
    "play = widgets.Play(\n",
    "    value=1,\n",
    "    min=1,\n",
    "    max=7,\n",
    "    step=1,\n",
    "    interval=600,\n",
    "    description=\"Press play\",\n",
    "    disabled=False\n",
    ")\n",
    "slider = widgets.IntSlider(min=1, max=7, value=1)\n",
    "widgets.jslink((play, 'value'), (slider, 'value'))\n",
    "widgets.interact(best_squiggly, n=slider)\n",
    "widgets.HBox([play])"
   ]
  },
  {
   "cell_type": "code",
   "execution_count": null,
   "metadata": {},
   "outputs": [],
   "source": []
  }
 ],
 "metadata": {
  "kernelspec": {
   "display_name": "Python 3",
   "language": "python",
   "name": "python3"
  },
  "language_info": {
   "codemirror_mode": {
    "name": "ipython",
    "version": 3
   },
   "file_extension": ".py",
   "mimetype": "text/x-python",
   "name": "python",
   "nbconvert_exporter": "python",
   "pygments_lexer": "ipython3",
   "version": "3.8.5"
  }
 },
 "nbformat": 4,
 "nbformat_minor": 4
}
